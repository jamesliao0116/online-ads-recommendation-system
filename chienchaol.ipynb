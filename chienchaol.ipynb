{
 "cells": [
  {
   "cell_type": "markdown",
   "metadata": {},
   "source": [
    "# COMP90051 Project 2"
   ]
  },
  {
   "cell_type": "code",
   "execution_count": 1,
   "metadata": {},
   "outputs": [],
   "source": [
    "# Do not edit. These are the only imports permitted.\n",
    "%matplotlib inline\n",
    "import numpy as np\n",
    "from numpy.linalg import inv\n",
    "import matplotlib.pyplot as plt\n",
    "from abc import ABC, abstractmethod"
   ]
  },
  {
   "cell_type": "markdown",
   "metadata": {},
   "source": [
    "## 1. Implement ε-Greedy and UCB"
   ]
  },
  {
   "cell_type": "code",
   "execution_count": 2,
   "metadata": {},
   "outputs": [],
   "source": [
    "class MAB(ABC):\n",
    "    \"\"\"\n",
    "    Abstract class that represents a multi-armed bandit (MAB)\n",
    "    \"\"\"\n",
    "    \n",
    "    @abstractmethod\n",
    "    def play(self, tround, context):\n",
    "        \"\"\"\n",
    "        Play a round\n",
    "        \n",
    "        Arguments\n",
    "        =========\n",
    "        tround : int\n",
    "            positive integer identifying the round\n",
    "        \n",
    "        context : 1D float array, shape (self.ndims * self.narms), optional\n",
    "            context given to the arms\n",
    "        \n",
    "        Returns\n",
    "        =======\n",
    "        arm : int\n",
    "            the positive integer arm id for this round\n",
    "        \"\"\"\n",
    "    \n",
    "    @abstractmethod\n",
    "    def update(self, arm, reward, context):\n",
    "        \"\"\"\n",
    "        Updates the internal state of the MAB after a play\n",
    "        \n",
    "        Arguments\n",
    "        =========\n",
    "        arm : int\n",
    "            a positive integer arm id in {1, ..., self.narms}\n",
    "        \n",
    "        reward : float\n",
    "            reward received from arm\n",
    "        \n",
    "        context : 1D float array, shape (self.ndims * self.narms), optional\n",
    "            context given to arms\n",
    "        \"\"\""
   ]
  },
  {
   "cell_type": "code",
   "execution_count": 3,
   "metadata": {},
   "outputs": [],
   "source": [
    "class EpsGreedy(MAB):\n",
    "    \"\"\"\n",
    "    Epsilon-Greedy multi-armed bandit\n",
    "\n",
    "    Arguments\n",
    "    =========\n",
    "    narms : int\n",
    "        number of arms\n",
    "\n",
    "    epsilon : float\n",
    "        explore probability\n",
    "\n",
    "    Q0 : float, optional\n",
    "        initial value for the arms\n",
    "    \"\"\"\n",
    "    \n",
    "    def __init__(self, narms, epsilon, Q0=np.inf):\n",
    "        assert (epsilon >= 0 and epsilon <= 1)\n",
    "        assert (type(narms) == int and narms > 0)\n",
    "        self.epsilon = epsilon\n",
    "        self.narms = narms\n",
    "        self.armCounts = np.zeros(narms, dtype=np.int)\n",
    "        self.Q = np.full(narms, Q0, dtype=np.float)\n",
    "        self.tround = 1\n",
    "        \n",
    "    def play(self, tround, context=None):\n",
    "        rand = np.random.random()        \n",
    "        if (rand < self.epsilon): #randomly pick an arm given the probability of epsilon\n",
    "            arm = np.random.randint(self.narms)+ 1\n",
    "        else:\n",
    "            arm = np.random.choice(np.flatnonzero(self.Q == self.Q.max())) + 1\n",
    "        return arm\n",
    "        \n",
    "    def update(self, arm, reward, context=None):\n",
    "        self.armCounts[arm-1] += 1\n",
    "        if self.Q[arm-1] == np.inf: #the first time an arm is choosen, the Q value will be the reward\n",
    "            self.Q[arm-1] = reward\n",
    "        else:\n",
    "            self.Q[arm-1] += (1./self.armCounts[arm-1]) * (reward - self.Q[arm-1])\n",
    "    "
   ]
  },
  {
   "cell_type": "code",
   "execution_count": 4,
   "metadata": {},
   "outputs": [],
   "source": [
    "class UCB(MAB):\n",
    "    \"\"\"\n",
    "    Upper Confidence Bound (UCB) multi-armed bandit\n",
    "\n",
    "    Arguments\n",
    "    =========\n",
    "    narms : int\n",
    "        number of arms\n",
    "\n",
    "    rho : float\n",
    "        positive real explore-exploit parameter\n",
    "\n",
    "    Q0 : float, optional\n",
    "        initial value for the arms\n",
    "    \"\"\"\n",
    "    \n",
    "    def __init__(self, narms, rho, Q0=np.inf):\n",
    "        assert (type(narms) == int and narms > 0)\n",
    "        assert (rho > 0)\n",
    "        self.rho = rho\n",
    "        self.narms = narms\n",
    "        self.armCounts = np.zeros(narms, dtype=np.int)\n",
    "        self.u = np.full(narms, Q0, dtype=np.float)\n",
    "        self.tround = 1\n",
    "        self.Q = np.full(narms, Q0, dtype=np.float)\n",
    "        \n",
    "    def play(self, tround, context=None):\n",
    "        for i in range(self.narms):\n",
    "            if self.armCounts[i] == 0: #if the arm is never played, there is no need to update Q value\n",
    "                continue\n",
    "            else:\n",
    "                bound = np.sqrt(float(self.rho * np.log(tround)) / float(self.armCounts[i]))\n",
    "                self.Q[i] = self.u[i] + bound\n",
    "        arm = np.random.choice(np.flatnonzero(self.Q == self.Q.max())) + 1\n",
    "        return arm\n",
    "        \n",
    "    def update(self, arm, reward, context=None):\n",
    "        self.armCounts[arm-1] += 1\n",
    "        if self.u[arm-1] == np.inf: #the first time an arm is choosen, the Q value will be the reward\n",
    "            self.u[arm-1] = reward\n",
    "        else:\n",
    "            self.u[arm-1] += (1./self.armCounts[arm-1]) * (reward - self.u[arm-1])"
   ]
  },
  {
   "cell_type": "markdown",
   "metadata": {},
   "source": [
    "## 2. Off-Policy Evaluation"
   ]
  },
  {
   "cell_type": "code",
   "execution_count": 5,
   "metadata": {},
   "outputs": [],
   "source": [
    "def offlineEvaluate(mab, arms, rewards, contexts, nrounds=None):\n",
    "    \"\"\"\n",
    "    Offline evaluation of a multi-armed bandit\n",
    "    \n",
    "    Arguments\n",
    "    =========\n",
    "    mab : instance of MAB\n",
    "    \n",
    "    arms : 1D int array, shape (nevents,) \n",
    "        integer arm id for each event\n",
    "    \n",
    "    rewards : 1D float array, shape (nevents,)\n",
    "        reward received for each event\n",
    "    \n",
    "    contexts : 2D float array, shape (nevents, mab.narms*nfeatures)\n",
    "        contexts presented to the arms (stacked horizontally) \n",
    "        for each event.\n",
    "        \n",
    "    nrounds : int, optional\n",
    "        number of matching events to evaluate `mab` on.\n",
    "    \n",
    "    Returns\n",
    "    =======\n",
    "    out : 1D float array\n",
    "        rewards for the matching events\n",
    "    \"\"\"\n",
    "    per_round_reward = []\n",
    "    rewardCounts = np.zeros(mab.narms, dtype=np.int)\n",
    "    if nrounds is None: #if the number of round is not given, it will be set as infinity\n",
    "        nrounds = np.inf\n",
    "    for i, arm in enumerate(arms):\n",
    "        if arm == mab.play(mab.tround, contexts[i:i+1,:]): #the choose arm matches with the event\n",
    "            mab.update(arm, rewards[i], contexts[i:i+1,:])\n",
    "            rewardCounts[arm-1] += rewards[i]\n",
    "            per_round_reward.append(rewards[i])\n",
    "            mab.tround += 1\n",
    "            if mab.tround > nrounds:\n",
    "                return np.asarray(per_round_reward)\n",
    "        else: #the choose arm does not match, the event is discarded \n",
    "            continue\n",
    "    return np.asarray(per_round_reward)\n"
   ]
  },
  {
   "cell_type": "code",
   "execution_count": 6,
   "metadata": {},
   "outputs": [],
   "source": [
    "# read the data\n",
    "data = np.loadtxt('dataset.txt')\n",
    "arms = data[:,0].astype(int)\n",
    "rewards = data[:,1].astype(float)\n",
    "contexts = data[:,2:].astype(float)"
   ]
  },
  {
   "cell_type": "code",
   "execution_count": 7,
   "metadata": {},
   "outputs": [
    {
     "name": "stdout",
     "output_type": "stream",
     "text": [
      "EpsGreedy average reward 0.2275\n"
     ]
    }
   ],
   "source": [
    "mab = EpsGreedy(10, 0.05)\n",
    "results_EpsGreedy = offlineEvaluate(mab, arms, rewards, contexts, 800)\n",
    "print('EpsGreedy average reward', np.mean(results_EpsGreedy))"
   ]
  },
  {
   "cell_type": "code",
   "execution_count": 8,
   "metadata": {},
   "outputs": [
    {
     "name": "stdout",
     "output_type": "stream",
     "text": [
      "UCB average reward 0.19125\n"
     ]
    }
   ],
   "source": [
    "mab = UCB(10, 1.0)\n",
    "results_UCB = offlineEvaluate(mab, arms, rewards, contexts, 800)\n",
    "print('UCB average reward', np.mean(results_UCB))"
   ]
  },
  {
   "cell_type": "markdown",
   "metadata": {},
   "source": [
    "## 3. Contextual Bandits"
   ]
  },
  {
   "cell_type": "code",
   "execution_count": 9,
   "metadata": {},
   "outputs": [],
   "source": [
    "class LinUCB(MAB):\n",
    "    \"\"\"\n",
    "    Contextual multi-armed bandit (LinUCB)\n",
    "\n",
    "    Arguments\n",
    "    =========\n",
    "    narms : int\n",
    "        number of arms\n",
    "\n",
    "    ndims : int\n",
    "        number of dimensions for each arm's context\n",
    "\n",
    "    alpha : float\n",
    "        positive real explore-exploit parameter\n",
    "    \"\"\"\n",
    "    \n",
    "    def __init__(self, narms, ndims, alpha):\n",
    "        assert (type(narms) == int and narms > 0)\n",
    "        assert (type(ndims) == int and ndims > 0)\n",
    "        assert (alpha >= 0)\n",
    "        self.narms = narms\n",
    "        self.ndims = ndims\n",
    "        self.alpha = alpha\n",
    "        self.armCounts = np.zeros(narms, dtype=np.int)\n",
    "        self.armRewards = np.zeros(narms, dtype=np.int)\n",
    "        self.Alist = [np.identity(ndims)]*narms\n",
    "        self.blist = [np.zeros((ndims, 1), dtype=np.float)]*narms\n",
    "        self.p = np.zeros(narms, dtype=np.float)\n",
    "        self.tround = 1\n",
    "        \n",
    "    def play(self, tround, context):\n",
    "        for i in range(self.narms): #update p value of each arm before choosing an arm\n",
    "            feature = context[:,i*self.ndims:(i+1)*self.ndims].reshape(10,1)\n",
    "            theta = np.dot(inv(self.Alist[i]), self.blist[i])\n",
    "            fst = np.dot(np.transpose(theta), feature)\n",
    "            snd = self.alpha * ((np.transpose(feature).dot(inv(self.Alist[i])).dot(feature)) ** (1/2))\n",
    "            self.p[i] = fst + snd\n",
    "        arm = np.random.choice(np.flatnonzero(self.p == self.p.max())) + 1\n",
    "        return arm\n",
    "        \n",
    "    def update(self, arm, reward, context):\n",
    "        self.armCounts[arm-1] += 1\n",
    "        self.armRewards[arm-1] += reward\n",
    "        feature = context[:,(arm-1)*self.ndims:arm*self.ndims].reshape(10,1)\n",
    "        self.Alist[arm-1] = self.Alist[arm-1] + np.dot(feature, np.transpose(feature))\n",
    "        self.blist[arm-1] = self.blist[arm-1] + reward * feature"
   ]
  },
  {
   "cell_type": "code",
   "execution_count": 10,
   "metadata": {},
   "outputs": [
    {
     "name": "stdout",
     "output_type": "stream",
     "text": [
      "LinUCB average reward 0.53\n"
     ]
    }
   ],
   "source": [
    "mab = LinUCB(10, 10, 1.0)\n",
    "results_LinUCB = offlineEvaluate(mab, arms, rewards, contexts, 800)\n",
    "print('LinUCB average reward', np.mean(results_LinUCB))"
   ]
  },
  {
   "cell_type": "markdown",
   "metadata": {},
   "source": [
    "## 4. Evaluation\n",
    "### 4.A."
   ]
  },
  {
   "cell_type": "code",
   "execution_count": 11,
   "metadata": {},
   "outputs": [
    {
     "data": {
      "text/plain": [
       "Text(0,0.5,'per-round cumulative reward')"
      ]
     },
     "execution_count": 11,
     "metadata": {},
     "output_type": "execute_result"
    },
    {
     "data": {
      "image/png": "[encoded data removed]",
      "text/plain": [
       "<Figure size 432x288 with 1 Axes>"
      ]
     },
     "metadata": {},
     "output_type": "display_data"
    }
   ],
   "source": [
    "T_list = [0]\n",
    "UCB_list = [0]\n",
    "e_greedy_list = [0]\n",
    "LinUCB_list = [0]\n",
    "for i in range(800):\n",
    "    UCB_list.append(sum(results_UCB[:(i+1)]/(i+1)))\n",
    "    e_greedy_list.append(sum(results_EpsGreedy[:(i+1)]/(i+1)))\n",
    "    LinUCB_list.append(sum(results_LinUCB[:(i+1)]/(i+1)))\n",
    "    T_list.append(i+1)\n",
    "plt.title('Performance Comparison')\n",
    "plt.plot(T_list, LinUCB_list, color='blue', label='LinUCB')\n",
    "plt.plot(T_list, e_greedy_list, color='red', label='EpsGreedy')\n",
    "plt.plot(T_list, UCB_list, color='green', label='UCB')\n",
    "plt.legend()\n",
    "plt.xlabel('T')\n",
    "plt.ylabel('per-round cumulative reward')"
   ]
  },
  {
   "cell_type": "markdown",
   "metadata": {},
   "source": [
    "### 4.B."
   ]
  },
  {
   "cell_type": "code",
   "execution_count": 12,
   "metadata": {},
   "outputs": [
    {
     "name": "stdout",
     "output_type": "stream",
     "text": [
      "Best alpha is 0.02, with average reward 0.73125\n"
     ]
    },
    {
     "data": {
      "image/png": "[encoded data removed]",
      "text/plain": [
       "<Figure size 432x288 with 1 Axes>"
      ]
     },
     "metadata": {},
     "output_type": "display_data"
    }
   ],
   "source": [
    "alpha_list = []\n",
    "result_list = []\n",
    "alpha = 0.0\n",
    "max_alpha = alpha\n",
    "max_CTR = 0.0\n",
    "while alpha <= 1.0:\n",
    "    mab = LinUCB(10, 10, alpha)\n",
    "    result = offlineEvaluate(mab, arms, rewards, contexts, 800)\n",
    "    alpha_list.append(alpha)\n",
    "    result_list.append(np.mean(result))\n",
    "    if np.mean(result) > max_CTR:\n",
    "        max_CTR = np.mean(result)\n",
    "        max_alpha = alpha\n",
    "    alpha += 0.01\n",
    "plt.title('Performance Optimization for Alpha')\n",
    "plt.plot(alpha_list, result_list, color='blue')\n",
    "plt.xlabel('Alpha')\n",
    "plt.ylabel('Click-Through-Rate')\n",
    "print('Best alpha is {}, with average reward {}'.format(max_alpha, max_CTR))"
   ]
  },
  {
   "cell_type": "markdown",
   "metadata": {},
   "source": [
    "## 5. KernelUCB"
   ]
  },
  {
   "cell_type": "code",
   "execution_count": 13,
   "metadata": {},
   "outputs": [],
   "source": [
    "# Do not edit. Special import for this section.\n",
    "from sklearn.metrics.pairwise import rbf_kernel"
   ]
  },
  {
   "cell_type": "code",
   "execution_count": 14,
   "metadata": {
    "scrolled": true
   },
   "outputs": [],
   "source": [
    "class KernelUCB(MAB):\n",
    "    \"\"\"\n",
    "    Kernelised contextual multi-armed bandit (Kernelised LinUCB)\n",
    "    \n",
    "    Arguments\n",
    "    =========\n",
    "    narms : int\n",
    "        number of arms\n",
    "\n",
    "    ndims : int\n",
    "        number of dimensions for each arm's context\n",
    "\n",
    "    gamma : float\n",
    "        positive real explore-exploit parameter\n",
    "    \n",
    "    eta : float\n",
    "        positive real explore-exploit parameter\n",
    "    \n",
    "    kern : callable\n",
    "        a kernel function from sklearn.metrics.pairwise\n",
    "    \"\"\"\n",
    "    def __init__(self, narms, ndims, gamma, eta, kern):\n",
    "        assert (type(narms) == int and narms > 0)\n",
    "        assert (type(ndims) == int and ndims > 0)\n",
    "        self.narms = narms\n",
    "        self.ndims = ndims\n",
    "        self.gamma = gamma\n",
    "        self.eta = eta\n",
    "        self.kern = kern\n",
    "        self.armCounts = np.zeros(narms, dtype=np.int)\n",
    "        self.tround = 1\n",
    "        self.u = np.zeros(narms, dtype=np.float).reshape(10,1)\n",
    "        self.u[0] = 1.0\n",
    "        self.y_list = []\n",
    "        self.x_list = []\n",
    "        self.K_inv_list = []\n",
    "        self.hist_k = []\n",
    "    \n",
    "    def play(self, tround, context):\n",
    "        if tround == 1:\n",
    "            arm = np.random.choice(np.flatnonzero(self.u == self.u.max())) + 1\n",
    "            return arm\n",
    "        else:\n",
    "            for i in range(self.narms):\n",
    "                feature_n = context[:,i*self.ndims:(i+1)*self.ndims]\n",
    "                k_n_list = []\n",
    "                for j in range(self.tround-1):\n",
    "                    k_n_list.append(self.kern(feature_n, self.x_list[j])[0])\n",
    "                    k_n = np.asarray(k_n_list)\n",
    "                sigma = (self.kern(feature_n, feature_n) - np.transpose(k_n).dot(self.K_inv_list[self.tround-2]).dot(k_n)) ** (1/2)\n",
    "                self.u[i] = np.transpose(k_n).dot(self.K_inv_list[self.tround-2]).dot(np.transpose(np.asarray(self.y_list))) + (self.eta / (self.gamma ** (1/2))) * sigma\n",
    "            arm = np.random.choice(np.flatnonzero(self.u == self.u.max())) + 1\n",
    "            return arm\n",
    "    \n",
    "    def update(self, arm, reward, context):\n",
    "        self.armCounts[arm-1] += 1\n",
    "        feature = context[:,(arm-1)*self.ndims:arm*self.ndims]\n",
    "        self.x_list.append(feature)\n",
    "        self.y_list.append(reward)\n",
    "        k_list = []\n",
    "        for i in range(self.tround):\n",
    "            k_list.append(self.kern(feature, self.x_list[i])[0])\n",
    "        k = np.asarray(k_list)\n",
    "        self.hist_k.append(k)\n",
    "        if self.tround == 1:\n",
    "            K_inv = inv(self.kern(feature, feature) + self.gamma)\n",
    "            self.K_inv_list.append(K_inv)\n",
    "        else:\n",
    "            b = self.hist_k[self.tround-2]\n",
    "            K22 = inv(self.kern(feature, feature) + self.gamma - np.transpose(b).dot(self.K_inv_list[self.tround-2]).dot(b))\n",
    "            K11 = self.K_inv_list[self.tround-2] + K22*(self.K_inv_list[self.tround-2].dot(b).dot(np.transpose(b)).dot(self.K_inv_list[self.tround-2]))\n",
    "            K12 = - K22*(self.K_inv_list[self.tround-2].dot(b))\n",
    "            K21 = - K22*(np.transpose(b).dot(self.K_inv_list[self.tround-2]))\n",
    "            first_part = np.vstack((K11, K21))\n",
    "            second_part = np.vstack((K12, K22))\n",
    "            K_inv = np.hstack((first_part, second_part))\n",
    "            self.K_inv_list.append(K_inv)\n",
    "    "
   ]
  },
  {
   "cell_type": "code",
   "execution_count": 15,
   "metadata": {},
   "outputs": [
    {
     "name": "stdout",
     "output_type": "stream",
     "text": [
      "KernelUCB average reward 0.43125\n"
     ]
    }
   ],
   "source": [
    "mab = KernelUCB(10, 10, 400, 10, rbf_kernel)\n",
    "results_KernelUCB = offlineEvaluate(mab, arms, rewards, contexts, 800)\n",
    "print('KernelUCB average reward', np.mean(results_KernelUCB))"
   ]
  },
  {
   "cell_type": "code",
   "execution_count": 16,
   "metadata": {},
   "outputs": [
    {
     "data": {
      "text/plain": [
       "Text(0,0.5,'per-round cumulative reward')"
      ]
     },
     "execution_count": 16,
     "metadata": {},
     "output_type": "execute_result"
    },
    {
     "data": {
      "image/png": "[encoded data removed]",
      "text/plain": [
       "<Figure size 432x288 with 1 Axes>"
      ]
     },
     "metadata": {},
     "output_type": "display_data"
    }
   ],
   "source": [
    "KernelUCB_list = [0]\n",
    "LinUCB_list = [0]\n",
    "T_list = [0]\n",
    "for i in range(800):\n",
    "    KernelUCB_list.append(sum(results_KernelUCB[:(i+1)]/(i+1)))\n",
    "    LinUCB_list.append(sum(results_LinUCB[:(i+1)]/(i+1)))\n",
    "    T_list.append(i+1)\n",
    "plt.title('Performance Comparison')\n",
    "plt.plot(T_list, KernelUCB_list, color='green', label='KernelUCB')\n",
    "plt.plot(T_list, LinUCB_list, color='blue', label='LinUCB')\n",
    "plt.legend()\n",
    "plt.xlabel('T')\n",
    "plt.ylabel('per-round cumulative reward')"
   ]
  }
 ],
 "metadata": {
  "kernelspec": {
   "display_name": "Python 3",
   "language": "python",
   "name": "python3"
  },
  "language_info": {
   "codemirror_mode": {
    "name": "ipython",
    "version": 3
   },
   "file_extension": ".py",
   "mimetype": "text/x-python",
   "name": "python",
   "nbconvert_exporter": "python",
   "pygments_lexer": "ipython3",
   "version": "3.6.5"
  }
 },
 "nbformat": 4,
 "nbformat_minor": 2
}
